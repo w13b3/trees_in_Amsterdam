{
 "cells": [
  {
   "cell_type": "markdown",
   "id": "350204b9-533f-4380-a4b8-128e08770b3d",
   "metadata": {},
   "source": [
    "Trees in Amsterdam\n",
    "---\n",
    "\n",
    "Uses the Amsterdam open geodata to find the unique and monumental trees in Amsterdam.\n",
    "\n",
    "Source:  \n",
    "https://maps.amsterdam.nl/open_geodata/"
   ]
  },
  {
   "cell_type": "markdown",
   "id": "b74a55e6-33e2-4ad7-875d-51edb866b2af",
   "metadata": {},
   "source": [
    "### install requirements"
   ]
  },
  {
   "cell_type": "code",
   "execution_count": 1,
   "id": "21182c1a-9eeb-4972-b0fb-c447dedc4ed2",
   "metadata": {},
   "outputs": [],
   "source": [
    "%%capture\n",
    "!python -m pip install --upgrade pip ipyleaflet geopy pandas"
   ]
  },
  {
   "cell_type": "markdown",
   "id": "f8a528fd-96e6-416c-a69f-44f58655f7b7",
   "metadata": {},
   "source": [
    "### import the third-party packages"
   ]
  },
  {
   "cell_type": "code",
   "execution_count": 2,
   "id": "1af2f5f7-0463-4586-b1fa-b55e23c75442",
   "metadata": {},
   "outputs": [],
   "source": [
    "# https://github.com/jupyter-widgets/ipywidgets\n",
    "from ipywidgets import HTML, Layout\n",
    "\n",
    "# https://github.com/pandas-dev/pandas\n",
    "import pandas as pd\n",
    "\n",
    "# https://github.com/geopy/geopy\n",
    "import geopy\n",
    "from geopy.distance import geodesic, Distance, Point\n",
    "from geopy.geocoders import Nominatim\n",
    "\n",
    "# of https://ipyleaflet.readthedocs.io/en/latest/\n",
    "from ipyleaflet import Map, Polyline, Marker, DivIcon, AwesomeIcon, LayersControl, LayerGroup, FullScreenControl"
   ]
  },
  {
   "cell_type": "markdown",
   "id": "79fd25d3-0e0c-4a62-a8b8-79d543b1ccc5",
   "metadata": {},
   "source": [
    "### unpack the data"
   ]
  },
  {
   "cell_type": "code",
   "execution_count": 3,
   "id": "2bbe9070-d830-4319-99aa-3ce980f5f16f",
   "metadata": {},
   "outputs": [],
   "source": [
    "import zipfile\n",
    "from pathlib import Path\n",
    "\n",
    "zipped_data = Path('./amsterdamse_bomen_data.zip')\n",
    "\n",
    "with zipfile.ZipFile(zipped_data, 'r') as z:\n",
    "    for file in z.filelist:\n",
    "        z.extractall('./data')\n",
    "\n",
    "amsterdamse_bomen = Path('./data/amsterdamse_bomen.csv')\n",
    "monumentale_bomen = Path('./data/monumentale_bomen.csv')"
   ]
  },
  {
   "cell_type": "markdown",
   "id": "1b77a28a-cf2a-47d7-91d5-f2e5a776b480",
   "metadata": {},
   "source": [
    "### create a map"
   ]
  },
  {
   "cell_type": "code",
   "execution_count": 4,
   "id": "2bbe6016-a356-46d9-8abb-ff5496470006",
   "metadata": {},
   "outputs": [
    {
     "name": "stdout",
     "output_type": "stream",
     "text": [
      "(52.35867345, 4.882823079370884)\n"
     ]
    }
   ],
   "source": [
    "# query the location\n",
    "query = \"museumplein\"\n",
    "\n",
    "geolocator = Nominatim(user_agent=query)\n",
    "location = geolocator.geocode(query)\n",
    "location_lat_lng = (location.latitude, location.longitude)\n",
    "print(location_lat_lng)"
   ]
  },
  {
   "cell_type": "code",
   "execution_count": 5,
   "id": "b3f649d6-087c-4b3b-bf3d-45b585135662",
   "metadata": {},
   "outputs": [],
   "source": [
    "leaflet_map = None\n",
    "leaflet_map = Map(\n",
    "    center=location_lat_lng,\n",
    "    zoom=15,\n",
    "    layout=Layout(width='100wh', height='95vh')\n",
    ")\n",
    "\n",
    "# add layer controls\n",
    "layer_control = LayersControl(position='topright')\n",
    "leaflet_map.add_control(layer_control)\n",
    "\n",
    "# fullscreen button\n",
    "fullscreen_control = FullScreenControl()\n",
    "leaflet_map.add_control(fullscreen_control)\n",
    "\n",
    "# leaflet_map"
   ]
  },
  {
   "cell_type": "markdown",
   "id": "82a44399-fd8c-4443-bb7c-360c99fa497b",
   "metadata": {},
   "source": [
    "### create a Geo-fence"
   ]
  },
  {
   "cell_type": "code",
   "execution_count": 6,
   "id": "b519055a-bd78-4fb0-bbab-8970a82832fb",
   "metadata": {},
   "outputs": [],
   "source": [
    "radius = 0.5\n",
    "square = (45, 135, 225, 315)   # bearing from center point\n",
    "points: list[Point] = [geodesic().destination(point=location.point, bearing=b, distance=Distance(radius)) for b in square]\n",
    "bearings: list[tuple[float, float]] = [(p.latitude, p.longitude) for p in points]"
   ]
  },
  {
   "cell_type": "code",
   "execution_count": 7,
   "id": "c1b8f90c-1442-4141-adee-3629b1e674b4",
   "metadata": {},
   "outputs": [],
   "source": [
    "line_list = []\n",
    "for coords in zip(bearings, (bearings[1:] + [bearings[0]])): # rotate +1\n",
    "    # coords: ((lat, lon), (lat, lon))\n",
    "    line = Polyline(locations=coords, color='blue', fill=False)\n",
    "    line_list.append(line)\n",
    "    \n",
    "line_group = LayerGroup(layers=line_list, name=\"Geo-fence\")\n",
    "leaflet_map.add_layer(line_group)\n",
    "\n",
    "# leaflet_map"
   ]
  },
  {
   "cell_type": "markdown",
   "id": "55c63311-4f06-4a3f-b0bf-ec8cc7c0344a",
   "metadata": {},
   "source": [
    "### create a filter to exclude data outside the Geo-fence"
   ]
  },
  {
   "cell_type": "code",
   "execution_count": 8,
   "id": "78c90a41-a544-4db5-aca3-d2b9ab309291",
   "metadata": {},
   "outputs": [],
   "source": [
    "# max lat, lng of the square\n",
    "longitudes = [p.longitude for p in points]\n",
    "latitudes = [p.latitude for p in points]\n",
    "max_lng, min_lng = max(longitudes), min(longitudes)\n",
    "max_lat, min_lat = max(latitudes), min(latitudes)"
   ]
  },
  {
   "cell_type": "code",
   "execution_count": 9,
   "id": "b38a9459-40d9-4bbb-8ee5-2bbce0ab2cb4",
   "metadata": {},
   "outputs": [],
   "source": [
    "# create a filter for items in the square\n",
    "\n",
    "def in_square(max_lat, min_lat, max_lng, min_lng, df):\n",
    "    return df[\n",
    "        (max_lat > df['LAT'])     # smaller than max latitude\n",
    "        & (df['LAT'] > min_lat)   # larger  than min latidude\n",
    "        & (max_lng > df['LNG'])   # smaller than max longitude\n",
    "        & (df['LNG'] > min_lng)   # larger  thanmin longitude\n",
    "    ]"
   ]
  },
  {
   "cell_type": "markdown",
   "id": "5111d578-f7b7-45e5-9157-f33edbd02843",
   "metadata": {},
   "source": [
    "### read the normal tree data"
   ]
  },
  {
   "cell_type": "code",
   "execution_count": 10,
   "id": "735fb3e8-7683-4b2e-9681-7ff1fd0ce8fa",
   "metadata": {},
   "outputs": [
    {
     "name": "stdout",
     "output_type": "stream",
     "text": [
      "rows: 259431\n",
      "items in filtered: 1014\n"
     ]
    }
   ],
   "source": [
    "bomen_df = pd.read_csv(amsterdamse_bomen, delimiter=';')\n",
    "print(f'rows: {len(bomen_df)}')\n",
    "\n",
    "filtered = in_square(max_lat, min_lat, max_lng, min_lng, bomen_df)\n",
    "print(f'items in filtered: {len(filtered)}')"
   ]
  },
  {
   "cell_type": "code",
   "execution_count": 11,
   "id": "e9e45835-cddc-4cf4-aae7-2d1cdbc9470a",
   "metadata": {},
   "outputs": [],
   "source": [
    "# filter single trees\n",
    "single_trees = filtered.drop_duplicates(subset=['Soortnaam_NL'], keep=False)"
   ]
  },
  {
   "cell_type": "markdown",
   "id": "feca0610-4490-4add-a724-3024f4a3690c",
   "metadata": {},
   "source": [
    "### function to create a-tag"
   ]
  },
  {
   "cell_type": "code",
   "execution_count": 12,
   "id": "29a7d8ea-bf0b-48c8-911f-3061b37d40a7",
   "metadata": {},
   "outputs": [],
   "source": [
    "# for creating a-tag\n",
    "\n",
    "from string import whitespace\n",
    "from urllib.parse import quote\n",
    "\n",
    "def remove_whitespace(s: str, replacement: str = '') -> str:\n",
    "    \"\"\"util to remove all the whitespaces from a string\"\"\"\n",
    "    for c in str(s):\n",
    "        if c in whitespace:\n",
    "            s = s.replace(c, str(replacement))\n",
    "    return s\n",
    "\n",
    "\n",
    "def create_atag(lat: float, lng: float, zoom: int = 18) -> str:\n",
    "    \"\"\"create a-tag with href that links to google maps\"\"\"\n",
    "    p = Point(lat, lng)\n",
    "    dec_deg = p.format(deg_char='°', min_char=\"'\", sec_char='\"')\n",
    "    dec_deg = remove_whitespace(dec_deg).replace(',', '+')\n",
    "    href = f\"www.google.com/maps/place/{dec_deg}/@{lat:.4f},{lng:.4f},{zoom}z/\"\n",
    "    href = quote(href, safe='+/')\n",
    "    return f'<a href=\"https://{href}\" target=\"_blank\">{name}</a>'  # a-tag\n",
    "    "
   ]
  },
  {
   "cell_type": "markdown",
   "id": "27ba8204-9865-47b2-82b0-2475821fa630",
   "metadata": {},
   "source": [
    "### create markers for the unique trees"
   ]
  },
  {
   "cell_type": "code",
   "execution_count": 13,
   "id": "6cdb239f-4c26-4a9d-82b2-f4145eafc4fb",
   "metadata": {
    "tags": []
   },
   "outputs": [],
   "source": [
    "# add trees to the map\n",
    "\n",
    "# https://ipyleaflet.readthedocs.io/en/latest/api_reference/awesome_icon.html\n",
    "icon = AwesomeIcon(\n",
    "    name='tree',\n",
    "    marker_color='green',\n",
    "    icon_color='darkgreen',\n",
    ")\n",
    "\n",
    "markers = []\n",
    "for _, (name, lat, lng) in single_trees[['Soortnaam_NL', 'LAT', 'LNG']].iterrows():   # zip-like loop\n",
    "    # create marker\n",
    "    marker = Marker(location=(lat, lng), \n",
    "           draggable=False, \n",
    "           title=name,\n",
    "           icon=icon,\n",
    "          )\n",
    "    # add maps-link in popup\n",
    "    popup = HTML()\n",
    "    popup.value = create_atag(lat, lng)\n",
    "    marker.popup = popup\n",
    "    # add to list\n",
    "    markers.append(marker)\n",
    "\n",
    "try:\n",
    "    leaflet_map.remove_layer(single_tree_group)\n",
    "except:\n",
    "    pass\n",
    "single_tree_group = LayerGroup(layers=markers, name='Unique trees')\n",
    "leaflet_map.add_layer(single_tree_group)\n",
    "\n",
    "# leaflet_map"
   ]
  },
  {
   "cell_type": "markdown",
   "id": "b4e02ad6-a305-4baa-b41a-4a3cc7bbbd54",
   "metadata": {},
   "source": [
    "### create markers for the other trees"
   ]
  },
  {
   "cell_type": "code",
   "execution_count": 14,
   "id": "1c76ee24-403e-49ac-8330-6d733a715aea",
   "metadata": {},
   "outputs": [],
   "source": [
    "# add other trees\n",
    "\n",
    "icon = DivIcon(\n",
    "    html=\"\"\"<div style=\"color: green; font-size: 1.15em\">\\N{Deciduous Tree}</div>\"\"\",\n",
    "    icon_size=(0, 0),\n",
    ")\n",
    "\n",
    "markers = []\n",
    "for idx, (name, lat, lng) in filtered[['Soortnaam_NL', 'LAT', 'LNG']].iterrows():   # zip-like loop\n",
    "    # create a-tag\n",
    "    create_atag(lat, lng)\n",
    "    # add marker\n",
    "    marker = Marker(\n",
    "        location=(lat, lng),\n",
    "        title=name,\n",
    "        icon=icon,\n",
    "    )\n",
    "    # add maps-link in popup\n",
    "    popup = HTML()\n",
    "    popup.value = create_atag(lat, lng)\n",
    "    marker.popup = popup\n",
    "    # add to list\n",
    "    markers.append(marker)\n",
    "\n",
    "\n",
    "try:  # re\n",
    "    leaflet_map.remove_layer(all_trees_group)\n",
    "except:\n",
    "    pass\n",
    "all_trees_group = LayerGroup(layers=markers, name='All trees')\n",
    "leaflet_map.add_layer(all_trees_group)\n",
    "\n",
    "# leaflet_map"
   ]
  },
  {
   "cell_type": "markdown",
   "id": "bb80b1b5-89b5-4942-8511-f7cc6724b281",
   "metadata": {},
   "source": [
    "### read the monumental tree data"
   ]
  },
  {
   "cell_type": "code",
   "execution_count": 15,
   "id": "39ec9f47-2cfd-4f80-b708-534a2f0d1cdd",
   "metadata": {},
   "outputs": [
    {
     "name": "stdout",
     "output_type": "stream",
     "text": [
      "rows: 2615\n",
      "items in monumental_filtered: 3\n"
     ]
    }
   ],
   "source": [
    "monumental_df = pd.read_csv(monumentale_bomen, delimiter=';')\n",
    "print(f'rows: {len(monumental_df)}')\n",
    "\n",
    "monumental_filtered = in_square(max_lat, min_lat, max_lng, min_lng, monumental_df)\n",
    "print(f'items in monumental_filtered: {len(monumental_filtered)}')"
   ]
  },
  {
   "cell_type": "markdown",
   "id": "fa3d1d84-ff6f-4924-8a37-3da899d13036",
   "metadata": {},
   "source": [
    "### create markers for the monumental trees"
   ]
  },
  {
   "cell_type": "code",
   "execution_count": 16,
   "id": "56219095-18d1-4d53-a8ca-b4e64c599ed2",
   "metadata": {},
   "outputs": [],
   "source": [
    "# add monumental trees\n",
    "\n",
    "icon = AwesomeIcon(\n",
    "    name='leaf',\n",
    "    marker_color='red',\n",
    "    icon_color='green',\n",
    ")\n",
    "\n",
    "markers = []\n",
    "for idx, (name, lat, lng) in monumental_filtered[['Boomsoort', 'LAT', 'LNG']].iterrows():   # zip-like loop\n",
    "    # create a-tag\n",
    "    create_atag(lat, lng)\n",
    "    # add marker\n",
    "    marker = Marker(\n",
    "        location=(lat, lng),\n",
    "        title=name,\n",
    "        icon=icon,\n",
    "    )\n",
    "    # add maps-link in popup\n",
    "    popup = HTML()\n",
    "    popup.value = create_atag(lat, lng)\n",
    "    marker.popup = popup\n",
    "    # add to list\n",
    "    markers.append(marker)\n",
    "\n",
    "\n",
    "try:\n",
    "    leaflet_map.remove_layer(monumental_trees_group)\n",
    "except:\n",
    "    pass\n",
    "monumental_trees_group = LayerGroup(layers=markers, name='Monumental trees')\n",
    "leaflet_map.add_layer(monumental_trees_group)\n",
    "\n",
    "# leaflet_map"
   ]
  },
  {
   "cell_type": "markdown",
   "id": "456d715f-24b3-47ed-92b8-4f44b5afe227",
   "metadata": {},
   "source": [
    "### show result"
   ]
  },
  {
   "cell_type": "code",
   "execution_count": 17,
   "id": "4f715a2f-a9cb-4492-9c92-fb7e54c352ef",
   "metadata": {},
   "outputs": [
    {
     "data": {
      "application/vnd.jupyter.widget-view+json": {
       "model_id": "7a694b3e79264b9daa878433efdda208",
       "version_major": 2,
       "version_minor": 0
      },
      "text/plain": [
       "Map(center=[52.35867345, 4.882823079370884], controls=(ZoomControl(options=['position', 'zoom_in_text', 'zoom_…"
      ]
     },
     "metadata": {},
     "output_type": "display_data"
    }
   ],
   "source": [
    "leaflet_map"
   ]
  },
  {
   "cell_type": "code",
   "execution_count": 18,
   "id": "bb797e41-93a6-4446-b92f-36d1c7653aab",
   "metadata": {},
   "outputs": [],
   "source": [
    "leaflet_map.save('leaflet_map.html', title='\\N{Deciduous Tree}')"
   ]
  },
  {
   "cell_type": "code",
   "execution_count": null,
   "id": "cad9c5bc-2606-49f4-92bd-e89037649353",
   "metadata": {},
   "outputs": [],
   "source": []
  }
 ],
 "metadata": {
  "kernelspec": {
   "display_name": "Python 3 (ipykernel)",
   "language": "python",
   "name": "python3"
  },
  "language_info": {
   "codemirror_mode": {
    "name": "ipython",
    "version": 3
   },
   "file_extension": ".py",
   "mimetype": "text/x-python",
   "name": "python",
   "nbconvert_exporter": "python",
   "pygments_lexer": "ipython3",
   "version": "3.10.2"
  }
 },
 "nbformat": 4,
 "nbformat_minor": 5
}
